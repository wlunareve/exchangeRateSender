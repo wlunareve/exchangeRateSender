{
 "cells": [
  {
   "cell_type": "code",
   "execution_count": 40,
   "metadata": {},
   "outputs": [
    {
     "name": "stdout",
     "output_type": "stream",
     "text": [
      "['美金 (USD)', '港幣 (HKD)', '英鎊 (GBP)', '澳幣 (AUD)', '加拿大幣 (CAD)', '新加坡幣 (SGD)', '瑞士法郎 (CHF)', '日圓 (JPY)', '南非幣 (ZAR)', '瑞典幣 (SEK)', '紐元 (NZD)', '泰幣 (THB)', '菲國比索 (PHP)', '印尼幣 (IDR)', '歐元 (EUR)', '韓元 (KRW)', '越南盾 (VND)', '馬來幣 (MYR)', '人民幣 (CNY)']\n",
      "['USD', 'HKD', 'GBP', 'AUD', 'CAD', 'SGD', 'CHF', 'JPY', 'ZAR', 'SEK', 'NZD', 'THB', 'PHP', 'IDR', 'EUR', 'KRW', 'VND', 'MYR', 'CNY']\n"
     ]
    }
   ],
   "source": [
    "import requests\n",
    "import re\n",
    "from pyquery import PyQuery as pq\n",
    "\n",
    "page_source = requests.get(\"https://rate.bot.com.tw/xrt?Lang=zh-TW\")\n",
    "\n",
    "doc = pq(page_source.text)('tbody')\n",
    "\n",
    "#for currency in doc('tr').items():\n",
    "    #print(currency('.visible-phone').text(), end =',')\n",
    "    #print(currency('.rate-content-cash').eq(1).text())\n",
    "\n",
    "currencies = [ i.text() for i in doc('tr').items('div.visible-phone')]\n",
    "print(currencies)\n",
    "\n",
    "currencies_eng = [''.join(re.split(r'[^A-Za-z]',j)) for j in currencies]\n",
    "\n",
    "print(currencies_eng) \n",
    "#df_to_html_table(currency('.visible-phone').text(), currency('.rate-content-cash').eq(1).text())\n"
   ]
  },
  {
   "cell_type": "code",
   "execution_count": 70,
   "metadata": {},
   "outputs": [
    {
     "name": "stdout",
     "output_type": "stream",
     "text": [
      "https://rate.bot.com.tw/xrt/quote/l6m/JPY\n",
      "https://rate.bot.com.tw/xrt/quote/l6m/CNY\n",
      "https://rate.bot.com.tw/xrt/quote/l6m/HKD\n",
      "https://rate.bot.com.tw/xrt/quote/l6m/USD\n",
      "https://rate.bot.com.tw/xrt/quote/l6m/EUR\n",
      "https://rate.bot.com.tw/xrt/quote/l6m/GBP\n",
      "https://rate.bot.com.tw/xrt/quote/l6m/AUD\n",
      "https://rate.bot.com.tw/xrt/quote/l6m/SGD\n",
      "https://rate.bot.com.tw/xrt/quote/l6m/KRW\n",
      "[{'日幣 本日現金賣出匯率': 0.2749, '日幣 半年內最高匯率': 0.2831, '日幣 半年內最低匯率': 0.2713, '日幣 半年內匯率第一四分位率': 0.2754, '日幣 半年內匯率中位數': 0.2782, '日幣 半年內匯率第三四分位率': 0.2796, '日幣 半年內詳細資料': 'https://rate.bot.com.tw/xrt/quote/l6m/JPY'}, {'人民幣 本日現金賣出匯率': 4.508, '人民幣 半年內最高匯率': 4.752, '人民幣 半年內最低匯率': 4.497, '人民幣 半年內匯率第一四分位率': 4.522, '人民幣 半年內匯率中位數': 4.55, '人民幣 半年內匯率第三四分位率': 4.623, '人民幣 半年內詳細資料': 'https://rate.bot.com.tw/xrt/quote/l6m/CNY'}, {'港幣 本日現金賣出匯率': 3.997, '港幣 半年內最高匯率': 4.018, '港幣 半年內最低匯率': 3.832, '港幣 半年內匯率第一四分位率': 3.942, '港幣 半年內匯率中位數': 3.964, '港幣 半年內匯率第三四分位率': 3.983, '港幣 半年內詳細資料': 'https://rate.bot.com.tw/xrt/quote/l6m/HKD'}, {'美金 本日現金賣出匯率': 31.17, '美金 半年內最高匯率': 31.37, '美金 半年內最低匯率': 29.907, '美金 半年內匯率第一四分位率': 30.8, '美金 半年內匯率中位數': 30.975, '美金 半年內匯率第三四分位率': 31.1, '美金 半年內詳細資料': 'https://rate.bot.com.tw/xrt/quote/l6m/USD'}, {'歐元 本日現金賣出匯率': 35.37, '歐元 半年內最高匯率': 36.67, '歐元 半年內最低匯率': 35.13, '歐元 半年內匯率第一四分位率': 35.64, '歐元 半年內匯率中位數': 36.0, '歐元 半年內匯率第三四分位率': 36.25, '歐元 半年內詳細資料': 'https://rate.bot.com.tw/xrt/quote/l6m/EUR'}, {'英鎊 本日現金賣出匯率': 40.31, '英鎊 半年內最高匯率': 41.95, '英鎊 半年內最低匯率': 40.07, '英鎊 半年內匯率第一四分位率': 40.61, '英鎊 半年內匯率中位數': 40.89, '英鎊 半年內匯率第三四分位率': 41.19, '英鎊 半年內詳細資料': 'https://rate.bot.com.tw/xrt/quote/l6m/GBP'}, {'澳幣 本日現金賣出匯率': 22.74, '澳幣 半年內最高匯率': 23.13, '澳幣 半年內最低匯率': 22.16, '澳幣 半年內匯率第一四分位率': 22.51, '澳幣 半年內匯率中位數': 22.79, '澳幣 半年內匯率第三四分位率': 22.97, '澳幣 半年內詳細資料': 'https://rate.bot.com.tw/xrt/quote/l6m/AUD'}, {'新加坡幣 本日現金賣出匯率': 22.75, '新加坡幣 半年內最高匯率': 22.88, '新加坡幣 半年內最低匯率': 22.49, '新加坡幣 半年內匯率第一四分位率': 22.67, '新加坡幣 半年內匯率中位數': 22.74, '新加坡幣 半年內匯率第三四分位率': 22.79, '新加坡幣 半年內詳細資料': 'https://rate.bot.com.tw/xrt/quote/l6m/SGD'}, {'韓元 本日現金賣出匯率': 0.02956, '韓元 半年內最高匯率': 0.03003, '韓元 半年內最低匯率': 0.02912, '韓元 半年內匯率第一四分位率': 0.02941, '韓元 半年內匯率中位數': 0.02949, '韓元 半年內匯率第三四分位率': 0.02962, '韓元 半年內詳細資料': 'https://rate.bot.com.tw/xrt/quote/l6m/KRW'}]\n"
     ]
    }
   ],
   "source": [
    "import pandas as pd\n",
    "import time\n",
    "\n",
    "statistical_data = []\n",
    "currencies_eng = {'JPY': '日幣', 'CNY': '人民幣', 'HKD': '港幣', 'USD': '美金', 'EUR': '歐元', 'GBP': '英鎊', 'AUD': '澳幣', 'SGD': '新加坡幣', 'KRW': '韓元'}\n",
    "\n",
    "for currency_eng_value in currencies_eng:\n",
    "    url = 'https://rate.bot.com.tw/xrt/quote/l6m/{}'.format(currency_eng_value)\n",
    "    print(url)\n",
    "    history_page_source = requests.get(url)\n",
    "    doc2 = pq(history_page_source.text)\n",
    "    currency_dict = {}\n",
    "    for currency in doc2('tr').items():\n",
    "        currency_dict[currency('.text-center').eq(0).text()] = currency('.rate-content-cash').eq(1).text()\n",
    "        #print(currency('.text-center').eq(0).text(), end = ',')\n",
    "        #print(currency('.rate-content-cash').eq(1).text())\n",
    "\n",
    "    currency_df = pd.DataFrame(list(currency_dict.items()), columns=['Date', 'DateValue'])\n",
    "    currency_df = currency_df.drop(currency_df.index[0])\n",
    "    currency_df['DateValue'] = currency_df['DateValue'].astype('float64')\n",
    "\n",
    "    currency_data = {}\n",
    "    currency_data['{} 本日現金賣出匯率'.format(currencies_eng[currency_eng_value])] = currency_df['DateValue'].iloc[0]\n",
    "    currency_data['{} 半年內最高匯率'.format(currencies_eng[currency_eng_value])] = currency_df['DateValue'].max()\n",
    "    currency_data['{} 半年內最低匯率'.format(currencies_eng[currency_eng_value])] = currency_df['DateValue'].min()\n",
    "    currency_data['{} 半年內匯率 10% 位率'.format(currencies_eng[currency_eng_value])] = currency_df['DateValue'].quantile(.1)\n",
    "    currency_data['{} 半年內匯率中位數'.format(currencies_eng[currency_eng_value])] = currency_df['DateValue'].quantile(.5)\n",
    "    currency_data['{} 半年內匯率 90% 位率'.format(currencies_eng[currency_eng_value])] = currency_df['DateValue'].quantile(.9)\n",
    "    currency_data['{} 半年內詳細資料'.format(currencies_eng[currency_eng_value])] = url\n",
    "    \n",
    "    statistical_data.append(currency_data)\n",
    "\n",
    "    time.sleep(5)\n",
    "print(statistical_data)\n"
   ]
  },
  {
   "cell_type": "code",
   "execution_count": 107,
   "metadata": {},
   "outputs": [
    {
     "name": "stdout",
     "output_type": "stream",
     "text": [
      "<tr><td>日幣 本日現金賣出匯率</td><td><strong>0.2749</strong></td></tr><tr><td>日幣 半年內匯率第一四分位率</td><td>0.2754</td></tr><tr><td>人民幣 本日現金賣出匯率</td><td><strong>4.508</strong></td></tr><tr><td>人民幣 半年內匯率第一四分位率</td><td>4.522</td></tr><tr><td>港幣 本日現金賣出匯率</td><td><strong>3.997</strong></td></tr><tr><td>港幣 半年內匯率第三四分位率</td><td>3.983</td></tr><tr><td>美金 本日現金賣出匯率</td><td><strong>31.17</strong></td></tr><tr><td>美金 半年內匯率第三四分位率</td><td>31.1</td></tr><tr><td>歐元 本日現金賣出匯率</td><td><strong>35.37</strong></td></tr><tr><td>歐元 半年內匯率第一四分位率</td><td>35.64</td></tr><tr><td>英鎊 本日現金賣出匯率</td><td><strong>40.31</strong></td></tr><tr><td>英鎊 半年內匯率第一四分位率</td><td>40.61</td></tr>\n"
     ]
    }
   ],
   "source": [
    "from email.mime.text import MIMEText\n",
    "from smtplib import SMTP\n",
    "from jinja2 import Template\n",
    "import configparser \n",
    "import smtplib\n",
    "import sys\n",
    "\n",
    "\n",
    "\n",
    "def dict_to_html(statistical_data):\n",
    "    \n",
    "    html_list = []\n",
    "    for currency_data in statistical_data:\n",
    "        \n",
    "        key_list = list(currency_data.keys())\n",
    "        \n",
    "        if  currency_data[key_list[0]] < currency_data[key_list[3]]:\n",
    "            html_unit_list = ['<tr><td>{0}</td><td><strong>{1}</strong></td></tr><tr><td>{2}</td><td>{3}</td></tr>'.format(key_list[0], currency_data[key_list[0]], key_list[3], currency_data[key_list[3]])] \n",
    "            html_unit = ''.join(html_unit_list)\n",
    "            html_list.append(html_unit)\n",
    "        elif currency_data[key_list[0]] > currency_data[key_list[5]]:\n",
    "            html_unit_list = ['<tr><td>{0}</td><td><strong>{1}</strong></td></tr><tr><td>{2}</td><td>{3}</td></tr>'.format(key_list[0], currency_data[key_list[0]], key_list[5], currency_data[key_list[5]])] \n",
    "            html_unit = ''.join(html_unit_list)\n",
    "            html_list.append(html_unit)\n",
    "    html = ''.join(html_list)\n",
    "    return html\n",
    "    \n",
    "html = dict_to_html(statistical_data)\n",
    "print(html)\n",
    "\n",
    "config = configparser.ConfigParser()\n",
    "config.read('config.ini')\n",
    "\n",
    "sender = config['email']['account']\n",
    "passwd = config['email']['passwd']\n",
    "receiver = config['email']['receiver']\n",
    "receiver = 'wlunareve@gmail.com'\n",
    "\n",
    "msg = MIMEText(html, 'html')\n",
    "msg['Subject'] = \"Today exchange rate\"\n",
    "msg['From'] = sender\n",
    "msg['To'] = receiver\n",
    "  \n",
    "smtp = smtplib.SMTP_SSL(\"smtp.gmail.com\", 465)\n",
    "\n",
    "smtp.ehlo() \n",
    "smtp.login(sender, passwd)\n",
    " \n",
    "smtp.send_message(msg)\n",
    "\n",
    "smtp.close()\n",
    "\n"
   ]
  },
  {
   "cell_type": "code",
   "execution_count": 22,
   "metadata": {},
   "outputs": [],
   "source": []
  },
  {
   "cell_type": "code",
   "execution_count": null,
   "metadata": {},
   "outputs": [],
   "source": []
  }
 ],
 "metadata": {
  "kernelspec": {
   "display_name": "Python 3",
   "language": "python",
   "name": "python3"
  },
  "language_info": {
   "codemirror_mode": {
    "name": "ipython",
    "version": 3
   },
   "file_extension": ".py",
   "mimetype": "text/x-python",
   "name": "python",
   "nbconvert_exporter": "python",
   "pygments_lexer": "ipython3",
   "version": "3.6.4"
  }
 },
 "nbformat": 4,
 "nbformat_minor": 2
}
