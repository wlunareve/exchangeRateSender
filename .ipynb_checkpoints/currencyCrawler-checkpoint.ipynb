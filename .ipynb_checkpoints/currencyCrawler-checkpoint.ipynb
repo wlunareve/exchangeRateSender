{
 "cells": [
  {
   "cell_type": "code",
   "execution_count": 37,
   "metadata": {},
   "outputs": [
    {
     "name": "stdout",
     "output_type": "stream",
     "text": [
      " 美金 (USD),31.155\n",
      " 港幣 (HKD),3.992\n",
      " 英鎊 (GBP),40.47\n",
      " 澳幣 (AUD),22.85\n",
      " 加拿大幣 (CAD),23.88\n",
      " 新加坡幣 (SGD),22.78\n",
      " 瑞士法郎 (CHF),31.07\n",
      " 日圓 (JPY),0.2762\n",
      " 南非幣 (ZAR),-\n",
      " 瑞典幣 (SEK),3.55\n",
      " 紐元 (NZD),21.44\n",
      " 泰幣 (THB),0.9994\n",
      " 菲國比索 (PHP),0.6453\n",
      " 印尼幣 (IDR),0.00248\n",
      " 歐元 (EUR),35.57\n",
      " 韓元 (KRW),0.02948\n",
      " 越南盾 (VND),0.00145\n",
      " 馬來幣 (MYR),7.902\n",
      " 人民幣 (CNY),4.514\n"
     ]
    }
   ],
   "source": [
    "import requests\n",
    "from pyquery import PyQuery as pq\n",
    "\n",
    "page_source = requests.get(\"https://rate.bot.com.tw/xrt?Lang=zh-TW\")\n",
    "\n",
    "doc = pq(page_source.text)('tbody')\n",
    "#print(doc('tr'))\n",
    "for currency in doc('tr').items():\n",
    "    print(currency('.visible-phone').text(), end =',')\n",
    "    print(currency('.rate-content-cash').eq(1).text())\n"
   ]
  },
  {
   "cell_type": "code",
   "execution_count": 75,
   "metadata": {},
   "outputs": [
    {
     "ename": "SyntaxError",
     "evalue": "invalid syntax (<ipython-input-75-4b080cc6b08e>, line 17)",
     "output_type": "error",
     "traceback": [
      "\u001b[1;36m  File \u001b[1;32m\"<ipython-input-75-4b080cc6b08e>\"\u001b[1;36m, line \u001b[1;32m17\u001b[0m\n\u001b[1;33m    statistical_data['澳幣本日現金賣出匯率'] = AUD_df['DateValue'].iloc[0,;]\u001b[0m\n\u001b[1;37m                                                                ^\u001b[0m\n\u001b[1;31mSyntaxError\u001b[0m\u001b[1;31m:\u001b[0m invalid syntax\n"
     ]
    }
   ],
   "source": [
    "import pandas as pd\n",
    "\n",
    "history_page_source = requests.get(\"https://rate.bot.com.tw/xrt/quote/l6m/AUD\")\n",
    "doc2 = pq(history_page_source.text)\n",
    "AUD_dict = {}\n",
    "for currency in doc2('tr').items():\n",
    "    AUD_dict[currency('.text-center').eq(0).text()] = currency('.rate-content-cash').eq(1).text()\n",
    "    #print(currency('.text-center').eq(0).text(), end = ',')\n",
    "    #print(currency('.rate-content-cash').eq(1).text())\n",
    "\n",
    "AUD_df = pd.DataFrame(list(AUD_dict.items()), columns=['Date', 'DateValue'])\n",
    "AUD_df = AUD_df.drop(AUD_df.index[0])\n",
    "AUD_df['DateValue'] = AUD_df['DateValue'].astype('float64')\n",
    "\n",
    "statistical_data = {}\n",
    "\n",
    "statistical_data['澳幣本日現金賣出匯率'] = AUD_df['DateValue'].iloc[0]\n",
    "statistical_data['澳幣半年內最高匯率'] = AUD_df['DateValue'].max()\n",
    "statistical_data['澳幣半年內最低匯率'] = AUD_df['DateValue'].min()\n",
    "statistical_data['澳幣半年內匯率第一四分位率'] = AUD_df['DateValue'].quantile(.25)\n",
    "statistical_data['澳幣半年內匯率中位數'] = AUD_df['DateValue'].quantile(.5)\n",
    "statistical_data['澳幣半年內匯率第三四分位率'] = AUD_df['DateValue'].quantile(.75)\n",
    "\n",
    "print(statistical_data)\n",
    "\n"
   ]
  },
  {
   "cell_type": "code",
   "execution_count": null,
   "metadata": {},
   "outputs": [],
   "source": []
  }
 ],
 "metadata": {
  "kernelspec": {
   "display_name": "Python 3",
   "language": "python",
   "name": "python3"
  },
  "language_info": {
   "codemirror_mode": {
    "name": "ipython",
    "version": 3
   },
   "file_extension": ".py",
   "mimetype": "text/x-python",
   "name": "python",
   "nbconvert_exporter": "python",
   "pygments_lexer": "ipython3",
   "version": "3.6.4"
  }
 },
 "nbformat": 4,
 "nbformat_minor": 2
}
