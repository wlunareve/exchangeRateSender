{
 "cells": [
  {
   "cell_type": "code",
   "execution_count": 1,
   "metadata": {},
   "outputs": [
    {
     "name": "stdout",
     "output_type": "stream",
     "text": [
      " 美金 (USD),31.165\n",
      " 港幣 (HKD),3.994\n",
      " 英鎊 (GBP),40.6\n",
      " 澳幣 (AUD),23\n",
      " 加拿大幣 (CAD),23.88\n",
      " 新加坡幣 (SGD),22.84\n",
      " 瑞士法郎 (CHF),31.3\n",
      " 日圓 (JPY),0.2777\n",
      " 南非幣 (ZAR),-\n",
      " 瑞典幣 (SEK),3.56\n",
      " 紐元 (NZD),21.54\n",
      " 泰幣 (THB),1.0017\n",
      " 菲國比索 (PHP),0.6468\n",
      " 印尼幣 (IDR),0.00248\n",
      " 歐元 (EUR),35.77\n",
      " 韓元 (KRW),0.02956\n",
      " 越南盾 (VND),0.00145\n",
      " 馬來幣 (MYR),7.911\n",
      " 人民幣 (CNY),4.52\n"
     ]
    }
   ],
   "source": [
    "import requests\n",
    "from pyquery import PyQuery as pq\n",
    "\n",
    "page_source = requests.get(\"https://rate.bot.com.tw/xrt?Lang=zh-TW\")\n",
    "\n",
    "doc = pq(page_source.text)('tbody')\n",
    "#print(doc('tr'))\n",
    "for currency in doc('tr').items():\n",
    "    print(currency('.visible-phone').text(), end =',')\n",
    "    print(currency('.rate-content-cash').eq(1).text())\n"
   ]
  },
  {
   "cell_type": "code",
   "execution_count": 36,
   "metadata": {},
   "outputs": [
    {
     "name": "stdout",
     "output_type": "stream",
     "text": [
      "{'澳幣本日現金賣出匯率': 22.99, '澳幣半年內最高匯率': 23.13, '澳幣半年內最低匯率': 22.16, '澳幣半年內匯率第一四分位率': 22.505, '澳幣半年內匯率中位數': 22.81, '澳幣半年內匯率第三四分位率': 22.982499999999998, '半年內詳細資料': 'https://rate.bot.com.tw/xrt/quote/l6m/AUD'}\n"
     ]
    }
   ],
   "source": [
    "import pandas as pd\n",
    "\n",
    "history_page_source = requests.get(\"https://rate.bot.com.tw/xrt/quote/l6m/AUD\")\n",
    "doc2 = pq(history_page_source.text)\n",
    "AUD_dict = {}\n",
    "for currency in doc2('tr').items():\n",
    "    AUD_dict[currency('.text-center').eq(0).text()] = currency('.rate-content-cash').eq(1).text()\n",
    "    #print(currency('.text-center').eq(0).text(), end = ',')\n",
    "    #print(currency('.rate-content-cash').eq(1).text())\n",
    "\n",
    "AUD_df = pd.DataFrame(list(AUD_dict.items()), columns=['Date', 'DateValue'])\n",
    "AUD_df = AUD_df.drop(AUD_df.index[0])\n",
    "AUD_df['DateValue'] = AUD_df['DateValue'].astype('float64')\n",
    "\n",
    "statistical_data = {}\n",
    "\n",
    "statistical_data['澳幣本日現金賣出匯率'] = AUD_df['DateValue'].iloc[0]\n",
    "statistical_data['澳幣半年內最高匯率'] = AUD_df['DateValue'].max()\n",
    "statistical_data['澳幣半年內最低匯率'] = AUD_df['DateValue'].min()\n",
    "statistical_data['澳幣半年內匯率第一四分位率'] = AUD_df['DateValue'].quantile(.25)\n",
    "statistical_data['澳幣半年內匯率中位數'] = AUD_df['DateValue'].quantile(.5)\n",
    "statistical_data['澳幣半年內匯率第三四分位率'] = AUD_df['DateValue'].quantile(.75)\n",
    "statistical_data['半年內詳細資料'] = 'https://rate.bot.com.tw/xrt/quote/l6m/AUD'\n",
    "\n",
    "print(statistical_data)\n",
    "\n"
   ]
  },
  {
   "cell_type": "code",
   "execution_count": 56,
   "metadata": {},
   "outputs": [],
   "source": [
    "from email.mime.text import MIMEText\n",
    "from smtplib import SMTP\n",
    "import configparser \n",
    "import smtplib\n",
    "import sys\n",
    "\n",
    "config = configparser.ConfigParser()\n",
    "config.read('config.ini')\n",
    "\n",
    "sender = config['email']['account']\n",
    "passwd = config['email']['passwd']\n",
    "receivers = config['email']['receiver']\n",
    "\n",
    "msg = MIMEText(\"\"\"<tr>\n",
    "                <td>澳幣本日現金賣出匯率</td>\n",
    "                <td>{}</td>\n",
    "                </tr>\n",
    "                <tr>\n",
    "                <td>澳幣半年內最高匯率</td>\n",
    "                <td>{}</td>\n",
    "                </tr>\n",
    "                <tr>\n",
    "                <td>澳幣半年內最低匯率</td>\n",
    "                <td>{}</td>\n",
    "                </tr>\n",
    "                <tr>\n",
    "                <td>澳幣半年內匯率第一四分位率</td>\n",
    "                <td>{}</td>\n",
    "                </tr>\n",
    "                <tr>\n",
    "                <td>澳幣半年內匯率中位數</td>\n",
    "                <td>{}</td>\n",
    "                </tr>\n",
    "                <tr>\n",
    "                <td>澳幣半年內匯率第三四分位率</td>\n",
    "                <td>{}</td>\n",
    "                </tr>\n",
    "                <tr>\n",
    "                <td>半年內詳細資料</td>\n",
    "                <td>{}</td>\n",
    "                </tr>\n",
    "                \"\"\".format(AUD_df['DateValue'].iloc[0], AUD_df['DateValue'].max(), AUD_df['DateValue'].min(), AUD_df['DateValue'].quantile(.25), AUD_df['DateValue'].quantile(.5), AUD_df['DateValue'].quantile(.75), 'https://rate.bot.com.tw/xrt/quote/l6m/AUD') , 'html')\n",
    "msg['Subject'] = \"python email test\"\n",
    "msg['From'] = sender\n",
    "msg['To'] = receivers\n",
    "  \n",
    "smtp = smtplib.SMTP_SSL(\"smtp.gmail.com\", 465)\n",
    "\n",
    "smtp.ehlo() \n",
    "smtp.login(sender, passwd)\n",
    " \n",
    "smtp.send_message(msg)\n",
    "smtp.close()\n",
    "\n"
   ]
  },
  {
   "cell_type": "code",
   "execution_count": 22,
   "metadata": {},
   "outputs": [],
   "source": []
  },
  {
   "cell_type": "code",
   "execution_count": null,
   "metadata": {},
   "outputs": [],
   "source": []
  }
 ],
 "metadata": {
  "kernelspec": {
   "display_name": "Python 3",
   "language": "python",
   "name": "python3"
  },
  "language_info": {
   "codemirror_mode": {
    "name": "ipython",
    "version": 3
   },
   "file_extension": ".py",
   "mimetype": "text/x-python",
   "name": "python",
   "nbconvert_exporter": "python",
   "pygments_lexer": "ipython3",
   "version": "3.6.4"
  }
 },
 "nbformat": 4,
 "nbformat_minor": 2
}
